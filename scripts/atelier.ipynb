{
 "cells": [
  {
   "cell_type": "code",
   "execution_count": 1,
   "metadata": {},
   "outputs": [],
   "source": [
    "%load_ext autoreload\n",
    "%autoreload 2\n",
    "from tidy import TypDocParser"
   ]
  },
  {
   "cell_type": "code",
   "execution_count": 2,
   "metadata": {},
   "outputs": [
    {
     "name": "stdout",
     "output_type": "stream",
     "text": [
      "= Heading  Heading\n",
      "== Heading  Heading\n",
      "=== Heading  Heading\n",
      "h kdjfhs d = a h kdjfhs d = a\n"
     ]
    }
   ],
   "source": []
  },
  {
   "cell_type": "code",
   "execution_count": 3,
   "metadata": {},
   "outputs": [
    {
     "name": "stdout",
     "output_type": "stream",
     "text": [
      "{'name': 'myfunc', 'description': 'MYfun', 'params': [{'name': 'data'}]}\n"
     ]
    }
   ],
   "source": [
    "content = \"\"\"\n",
    "// asd\n",
    "/// This function \n",
    "/// is new\n",
    "\n",
    "/// MYfun\n",
    "#let myfunc(\n",
    "    data, // asd\n",
    ") = ...\n",
    "\n",
    "/// A sine\n",
    "/// -> int\n",
    "\n",
    "#let sine(\n",
    "    /// Content to display -> float, int\n",
    "    x, \n",
    ") = ...\n",
    "\n",
    "\"\"\"\n",
    "parser = TypDocParser()\n",
    "parser.parse(content)\n",
    "print(\"\\n\".join([repr(x) for x in parser.definitions]))"
   ]
  },
  {
   "cell_type": "code",
   "execution_count": 4,
   "metadata": {},
   "outputs": [],
   "source": [
    "def assert_definitions(a, b):\n",
    "    a = TypDocParser().parse(a)[\"definitions\"]\n",
    "    assert a == b, f\"\\n{a} != \\n{b}\"\n",
    "\n",
    "def assert_general(a, b):\n",
    "    a = TypDocParser().parse(a)\n",
    "    assert a == b, f\"\\n{a} != \\n{b}\"\n",
    "\n",
    "def run_tests():\n",
    "\n",
    "    assert_definitions(\"\"\"\n",
    "        ///Doc\n",
    "        #let my-var1\n",
    "        \"\"\", [{\"name\": \"my-var1\", \"description\": \"Doc\"}])\n",
    "\n",
    "    assert_definitions(\"\"\"\n",
    "        ///Doc\n",
    "        #let my-func1()\n",
    "        \"\"\", [{\"name\": \"my-func1\", \"description\": \"Doc\", \"params\": []}])\n",
    "\n",
    "    assert_definitions(\"\"\"\n",
    "        /// Doc\n",
    "        #let my-func1(data)\n",
    "        \"\"\", [{\"name\": \"my-func1\", \"description\": \"Doc\", \"params\": [{\"name\": \"data\"}]}])\n",
    "\n",
    "    assert_definitions(\"\"\"\n",
    "        ///Doc\n",
    "        #let my-func1(\n",
    "            data\n",
    "        )\n",
    "        \"\"\", [{\"name\": \"my-func1\", \"description\": \"Doc\", \"params\": [{\"name\": \"data\"}]}])\n",
    "\n",
    "\n",
    "    assert_definitions(\"\"\"\n",
    "        ///Doc\n",
    "        #let my-func1(\n",
    "            ///The data to pass on -> int, float\n",
    "            data: [23]\n",
    "        )\n",
    "        \"\"\", [{\"name\": \"my-func1\", \"description\": \"Doc\", \"params\": [{\"name\": \"data\", \"default\": \"[23]\", \"description\": \"The data to pass on\", \"types\": [\"int\", \"float\"]}]}])\n",
    "\n",
    "    assert_definitions(\"\"\"\n",
    "        ///Doc\n",
    "        #let my-func1( // just a comment\n",
    "            ///The data to pass on\n",
    "            data: [23],\n",
    "            data2: none,\n",
    "            ///The multiplier\n",
    "            /// -> length\n",
    "            x // just a comment\n",
    "        )\n",
    "        \"\"\", [{\"name\": \"my-func1\", \"description\": \"Doc\", \"params\": [\n",
    "        {\"name\": \"data\", \"default\": \"[23]\", \"description\": \"The data to pass on\"},\n",
    "        {\"name\": \"data2\", \"default\": \"none\"},\n",
    "        {\"name\": \"x\", \"description\": \"The multiplier\", \"types\": [\"length\"]}\n",
    "    ]}])\n",
    "\n",
    "    assert_general(\"\"\"\n",
    "        ///This module is a module\n",
    "                       \n",
    "        ///Doc\n",
    "        #let bey(x)\n",
    "        \"\"\", {\n",
    "            \"name\": None, \n",
    "            \"description\": \"This module is a module\", \n",
    "            \"definitions\": [{ \"name\": \"bey\", \"description\": \"Doc\", \"params\": [{\"name\": \"x\"}] }]\n",
    "    })\n",
    "\n",
    "\n",
    "    assert_general(\"\"\"\n",
    "        /// This module is a module\n",
    "                   \n",
    "        #let bey(x)\n",
    "        \"\"\", {\n",
    "            \"name\": None,\n",
    "            \"description\": \"This module is a module\", \n",
    "            \"definitions\": []\n",
    "    })\n",
    "\n",
    "    assert_general(\"\"\"\n",
    "        /// Doc\n",
    "        #let aey(x)\n",
    "        /// No Doc\n",
    "                   \n",
    "        #let bey(x)\n",
    "        \"\"\", {\n",
    "            \"name\": None,\n",
    "            \"description\": None, \n",
    "            \"definitions\": [{ \"name\": \"aey\", \"description\": \"Doc\", \"params\": [{\"name\": \"x\"}] }]\n",
    "    })\n",
    "\n",
    "\n",
    "run_tests()"
   ]
  },
  {
   "cell_type": "code",
   "execution_count": null,
   "metadata": {},
   "outputs": [],
   "source": [
    "\n",
    "arg_parser = ArgumentParser()\n",
    "\n",
    "# arg_parser.parse(\"x, y: 23pt, dict: (cap: 'as', stroke: blue),\")\n",
    "# arg_parser.parse(\"z: 3pt)\")\n",
    "# arg_parser.args"
   ]
  },
  {
   "cell_type": "code",
   "execution_count": 34,
   "metadata": {},
   "outputs": [
    {
     "data": {
      "text/plain": [
       "['1', '13']"
      ]
     },
     "execution_count": 34,
     "metadata": {},
     "output_type": "execute_result"
    }
   ],
   "source": [
    "class A:\n",
    "    def __init__(self):\n",
    "        self.data = []\n",
    "\n",
    "    def call(self, data):\n",
    "        for entry in data:\n",
    "            self.handle_entry(entry)\n",
    "\n",
    "    def handle_entry(self, entry):\n",
    "        if \"1\" in entry:\n",
    "            self.data.append(entry)\n",
    "\n",
    "a = A()\n",
    "a.call([\"1\",\"2\",\"13\",\"4\",\"5\",\"6\",\"7\",\"8\",\"9\"])\n",
    "a.data"
   ]
  },
  {
   "cell_type": "code",
   "execution_count": 5,
   "metadata": {},
   "outputs": [],
   "source": []
  }
 ],
 "metadata": {
  "kernelspec": {
   "display_name": "Python 3",
   "language": "python",
   "name": "python3"
  },
  "language_info": {
   "codemirror_mode": {
    "name": "ipython",
    "version": 3
   },
   "file_extension": ".py",
   "mimetype": "text/x-python",
   "name": "python",
   "nbconvert_exporter": "python",
   "pygments_lexer": "ipython3",
   "version": "3.10.5"
  }
 },
 "nbformat": 4,
 "nbformat_minor": 2
}
